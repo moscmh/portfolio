{
 "cells": [
  {
   "cell_type": "markdown",
   "metadata": {},
   "source": [
    "# Time Series Analysis and Forecast on Perth Fuel Price (2022-2024)"
   ]
  },
  {
   "cell_type": "markdown",
   "metadata": {},
   "source": [
    "&emsp;The project follows `Box-Jenkins`'s modelling framework that consists of `identification`, `estimation`, `model diagnostic`, and `production` to practise analysing and making forecast of a time series dataset, Perth's fuel prices. Note that the fuel price is expressed as cents per litre (AUD/100L)."
   ]
  },
  {
   "cell_type": "markdown",
   "metadata": {},
   "source": [
    "## Table of Contents\n",
    "1. [Import Library](#lib)\n",
    "2. [Import Data](#data)  \n",
    "&emsp;a. [SQL](#sql1)  \n",
    "&emsp;b. [Pandas](#read_csv)\n",
    "3. [Data Preparation](#prep)\n",
    "4. [Modelling](#model)\n",
    "5. [Exogenous Feature](#exog)"
   ]
  },
  {
   "cell_type": "markdown",
   "metadata": {},
   "source": [
    "## Import Library<a id='lib'></a>"
   ]
  },
  {
   "cell_type": "code",
   "execution_count": 1,
   "metadata": {},
   "outputs": [],
   "source": [
    "# MySQL\n",
    "import psycopg2\n",
    "import mysql.connector\n",
    "# Numpy and Dataframe\n",
    "import numpy as np\n",
    "import pandas as pd\n",
    "# Visualisation\n",
    "import matplotlib as mpl\n",
    "import matplotlib.pyplot as plt\n",
    "import seaborn as sns\n",
    "mpl.style.use('default')\n",
    "%matplotlib inline\n",
    "# Stationarity test\n",
    "from statsmodels.tsa.stattools import adfuller\n",
    "# Order searching\n",
    "from statsmodels.graphics.tsaplots import plot_acf, plot_pacf\n",
    "import pmdarima as pm\n",
    "# Seasonal decomposition\n",
    "from statsmodels.tsa.seasonal import seasonal_decompose\n",
    "# Modelling\n",
    "from statsmodels.tsa.arima.model import ARIMA\n",
    "from statsmodels.tsa.statespace.sarimax import SARIMAX\n",
    "# Save and load model\n",
    "import joblib"
   ]
  },
  {
   "cell_type": "markdown",
   "metadata": {},
   "source": [
    "## Import Data<a id='data'></a>\n",
    "&emsp;Fuel price data was retrieved from [Fuel Watch](https://www.fuelwatch.wa.gov.au). Multiple Excel files were imported into MySQL database. Only unleaded petrol price in Perth Metro was extracted from the large amount of data for this particular analysis and forecast."
   ]
  },
  {
   "cell_type": "markdown",
   "metadata": {},
   "source": [
    "### SQL<a id='sql1'></a>"
   ]
  },
  {
   "cell_type": "code",
   "execution_count": 2,
   "metadata": {},
   "outputs": [],
   "source": [
    "# Connect database\n",
    "# mydb = mysql.connector.connect(\n",
    "#   host=\"localhost\",\n",
    "#   user=\"root\",\n",
    "#   password=\"password\"\n",
    "# )\n",
    "# mycursor = mydb.cursor()"
   ]
  },
  {
   "cell_type": "code",
   "execution_count": 3,
   "metadata": {},
   "outputs": [],
   "source": [
    "# Extract dataset\n",
    "# mycursor.execute(\n",
    "#     \"SELECT date, brand, price\\\n",
    "#     FROM base.WA_fuel\\\n",
    "#     WHERE (fuel = 'ULP') AND (postcode = 6000)\"\n",
    "# )\n",
    "\n",
    "# result = mycursor.fetchall()"
   ]
  },
  {
   "cell_type": "code",
   "execution_count": 4,
   "metadata": {},
   "outputs": [],
   "source": [
    "# for x in result:\n",
    "#     print(x)"
   ]
  },
  {
   "cell_type": "code",
   "execution_count": 5,
   "metadata": {},
   "outputs": [],
   "source": [
    "# Turn SQL result into dataframe\n",
    "# df = pd.DataFrame(result, columns=['date','brand','price'])\n",
    "# print(f\"Number of rows: {df.shape[0]}\")\n",
    "# print(f\"Number of columns: {df.shape[1]}\")\n",
    "# df.head(10)"
   ]
  },
  {
   "cell_type": "markdown",
   "metadata": {},
   "source": [
    "### Pandas<a id='read_csv'></a>"
   ]
  },
  {
   "cell_type": "code",
   "execution_count": 6,
   "metadata": {},
   "outputs": [],
   "source": [
    "df = pd.read_excel('perth_fuel.xlsx').iloc[:,1:]"
   ]
  },
  {
   "cell_type": "code",
   "execution_count": null,
   "metadata": {},
   "outputs": [],
   "source": [
    "df.drop_duplicates(inplace=True)\n",
    "print(f\"Number of rows: {df.shape[0]}\")\n",
    "print(f\"Number of columns: {df.shape[1]}\")\n",
    "df.reset_index(drop=True, inplace=True)\n",
    "df.head(10)"
   ]
  },
  {
   "cell_type": "code",
   "execution_count": 8,
   "metadata": {},
   "outputs": [],
   "source": [
    "# Convert date column into datetime\n",
    "df['date'] = pd.to_datetime(df['date'], dayfirst=True)"
   ]
  },
  {
   "cell_type": "code",
   "execution_count": null,
   "metadata": {},
   "outputs": [],
   "source": [
    "df.head()"
   ]
  },
  {
   "cell_type": "markdown",
   "metadata": {},
   "source": [
    "## Data Preparation<a id='prep'></a>"
   ]
  },
  {
   "cell_type": "code",
   "execution_count": 10,
   "metadata": {},
   "outputs": [],
   "source": [
    "# Congregate data using months\n",
    "df['month_year'] = df['date'].dt.to_period('M')\n",
    "df['date'] = df['month_year']"
   ]
  },
  {
   "cell_type": "code",
   "execution_count": 11,
   "metadata": {},
   "outputs": [],
   "source": [
    "# Group dataset by date and aggregate by price's mean\n",
    "df_uni = df.groupby(['date'])['price'].agg('mean')\n",
    "# Narrow down to 3 years data\n",
    "df_uni = df_uni[36:]"
   ]
  },
  {
   "cell_type": "markdown",
   "metadata": {},
   "source": [
    "### Stationarity"
   ]
  },
  {
   "cell_type": "code",
   "execution_count": null,
   "metadata": {},
   "outputs": [],
   "source": [
    "# Testing trend stationarity\n",
    "fig, ax = plt.subplots(figsize=(8,5))\n",
    "df_uni.plot(ax=ax)\n",
    "plt.title(\"Original Fuel Price\")\n",
    "plt.xlabel(\"\")\n",
    "plt.ylabel(\"AUD$\")\n",
    "plt.show()\n",
    "\n",
    "adfuller(df_uni)"
   ]
  },
  {
   "cell_type": "markdown",
   "metadata": {},
   "source": [
    "Without differencing, $p$ value is .0006 and the test statistic is -4.235. Thus, null hypothesis that the time series is non-stationary can be rejected."
   ]
  },
  {
   "cell_type": "code",
   "execution_count": null,
   "metadata": {},
   "outputs": [],
   "source": [
    "# Take first difference and test again\n",
    "df_uni_1diff = df_uni.diff(1).dropna()\n",
    "\n",
    "fig, ax = plt.subplots(figsize=(8,5))\n",
    "df_uni_1diff.plot(ax=ax)\n",
    "plt.title(\"First Differencing of Fuel Price\")\n",
    "plt.xlabel(\"\")\n",
    "plt.ylabel(\"First differenced AUD$\")\n",
    "plt.show()\n",
    "\n",
    "adfuller(df_uni_1diff)"
   ]
  },
  {
   "cell_type": "markdown",
   "metadata": {},
   "source": [
    "Taking first differencing makes the time series more stationary."
   ]
  },
  {
   "cell_type": "code",
   "execution_count": null,
   "metadata": {},
   "outputs": [],
   "source": [
    "# Try log-return and test again\n",
    "df_uni_logreturn = np.log(df_uni/df_uni.shift(1)).dropna()\n",
    "\n",
    "fig, ax = plt.subplots(figsize=(8,5))\n",
    "df_uni_logreturn.plot(ax=ax)\n",
    "plt.title(\"Log-Return of Fuel Price\")\n",
    "plt.xlabel(\"\")\n",
    "plt.ylabel(\"Log-returned AUD$\")\n",
    "plt.show()\n",
    "\n",
    "adfuller(df_uni_logreturn)"
   ]
  },
  {
   "cell_type": "markdown",
   "metadata": {},
   "source": [
    "Log-return produces similar result. However, I will stick to the original time-series for the following analysis and forecast."
   ]
  },
  {
   "cell_type": "code",
   "execution_count": null,
   "metadata": {},
   "outputs": [],
   "source": [
    "# Train test split\n",
    "train = df_uni.iloc[:round(df_uni.shape[0]*.75)]\n",
    "test = df_uni.iloc[round(df_uni.shape[0]*.75):]\n",
    "\n",
    "fig, ax = plt.subplots(figsize=(10,5))\n",
    "train.plot(label='train', ax=ax)\n",
    "test.plot(label='test', ax=ax)\n",
    "plt.title(\"Fuel Price in Training and Testing Sets\")\n",
    "plt.xlabel(\"\")\n",
    "plt.ylabel(\"AUD$\")\n",
    "plt.legend()\n",
    "plt.show()"
   ]
  },
  {
   "cell_type": "markdown",
   "metadata": {},
   "source": [
    "## Modelling<a id='model'></a>"
   ]
  },
  {
   "cell_type": "code",
   "execution_count": null,
   "metadata": {},
   "outputs": [],
   "source": [
    "# plot ACF and PACF graphs\n",
    "fig, (ax1, ax2) = plt.subplots(2,1, figsize=(8,8))\n",
    "\n",
    "plot_acf(train, lags=12, zero=False, ax=ax1)\n",
    "plot_pacf(train, lags=12, zero=False, ax=ax2)\n",
    "plt.show()"
   ]
  },
  {
   "cell_type": "markdown",
   "metadata": {},
   "source": [
    "&emsp;The ACF and PACF plots both did do not show signs of tailing off. The determination of orders is inconclusive."
   ]
  },
  {
   "cell_type": "code",
   "execution_count": null,
   "metadata": {},
   "outputs": [],
   "source": [
    "# Search for the best order by AIC and BIC\n",
    "order_aic_bic = []\n",
    "\n",
    "for p in range(5):\n",
    "    for q in range(5):\n",
    "        try:\n",
    "            model = ARIMA(train, order=(p,0,q))\n",
    "            results = model.fit()\n",
    "            order_aic_bic.append((p, q, results.aic, results.bic))\n",
    "        except:\n",
    "            order_aic_bic.append((p, q, None, None))\n",
    "\n",
    "order_df = pd.DataFrame(order_aic_bic, columns=['p', 'q', 'aic', 'bic'])"
   ]
  },
  {
   "cell_type": "code",
   "execution_count": null,
   "metadata": {},
   "outputs": [],
   "source": [
    "order_df.sort_values(['aic', 'bic'])"
   ]
  },
  {
   "cell_type": "markdown",
   "metadata": {},
   "source": [
    "&emsp;The order (0,0,2) yields the best AIC value."
   ]
  },
  {
   "cell_type": "code",
   "execution_count": null,
   "metadata": {},
   "outputs": [],
   "source": [
    "# Fit model\n",
    "model = ARIMA(train, order=(0,0,2))\n",
    "results = model.fit()\n",
    "# Summary of fit model\n",
    "print(results.summary())\n",
    "# Line plot of residuals\n",
    "residuals = results.resid\n",
    "residuals.plot()\n",
    "plt.title(\"Residual Plot\")\n",
    "plt.xlabel(\"\")\n",
    "plt.show()\n",
    "# Mean absolute error (MAE)\n",
    "mae = np.mean(np.abs(residuals))\n",
    "print(f'MAE:{mae}')\n",
    "# Density plot of residuals - white Gaussian noise should be centred around 0\n",
    "results.plot_diagnostics(figsize=(12,12))\n",
    "plt.show()\n",
    "# Summary stats of residuals\n",
    "print(residuals.describe())"
   ]
  },
  {
   "cell_type": "markdown",
   "metadata": {},
   "source": [
    "&emsp;The Prob(Q) and Prob(JB) are both non-significant. So the model's residuals are not correlated and of normal distribution. The points on the Normal Q-Q plot do not lie along the red line. The model needs to improve."
   ]
  },
  {
   "cell_type": "code",
   "execution_count": null,
   "metadata": {},
   "outputs": [],
   "source": [
    "# Forecast (one-step ahead in-sample prediction)\n",
    "forecast = results.get_prediction(start=-15)\n",
    "# Mean forecast\n",
    "mean_forecast = forecast.predicted_mean\n",
    "# Confident intervals\n",
    "conf_int = forecast.conf_int()\n",
    "\n",
    "# Plot\n",
    "plt.figure()\n",
    "plt.plot(train.index.to_series().astype('str'), train, label='observed')\n",
    "# Prediction\n",
    "plt.plot(mean_forecast.index.to_series().astype('str'), mean_forecast.values, color='red', label='forecast')\n",
    "# Uncertainty area\n",
    "plt.fill_between(mean_forecast.index.to_series().astype('str'), conf_int['lower price'], conf_int['upper price'], color='pink')\n",
    "# X-axis tick labels\n",
    "plt.xticks(rotation=90)\n",
    "plt.legend()\n",
    "plt.title(\"One-Step Ahead In-Sample Prediction\")\n",
    "plt.ylabel(\"AUD$\")\n",
    "plt.show()"
   ]
  },
  {
   "cell_type": "code",
   "execution_count": null,
   "metadata": {},
   "outputs": [],
   "source": [
    "# Forecast (Dynamic in-sample prediction)\n",
    "forecast = results.get_prediction(start=-10, dynamic=True) # start=-25\n",
    "# Mean forecast\n",
    "mean_forecast = forecast.predicted_mean\n",
    "# Confident intervals\n",
    "conf_int = forecast.conf_int()\n",
    "\n",
    "# Plot\n",
    "plt.figure()\n",
    "plt.plot(train.index.to_series().astype('str'), train, label='observed')\n",
    "# Prediction\n",
    "plt.plot(mean_forecast.index.to_series().astype('str'), mean_forecast.values, color='red', label='forecast')\n",
    "# Uncertainty area\n",
    "plt.fill_between(mean_forecast.index.to_series().astype('str'), conf_int['lower price'], conf_int['upper price'], color='pink')\n",
    "# X-axis tick labels\n",
    "plt.xticks(rotation=90)\n",
    "plt.legend()\n",
    "plt.title(\"Dynamic In-Sample Prediction\")\n",
    "plt.ylabel(\"AUD$\")\n",
    "plt.show()"
   ]
  },
  {
   "cell_type": "code",
   "execution_count": null,
   "metadata": {},
   "outputs": [],
   "source": [
    "# Forecast (Out-sample prediction)\n",
    "forecast = results.get_forecast(steps=10)\n",
    "# Mean forecast\n",
    "mean_forecast = forecast.predicted_mean\n",
    "# Confident intervals\n",
    "conf_int = forecast.conf_int()\n",
    "\n",
    "# Plot\n",
    "plt.figure()\n",
    "plt.plot(train.index.to_series().astype('str'), train, label='train')\n",
    "plt.plot(test.index.to_series().astype('str'), test, label='test')\n",
    "# Prediction\n",
    "plt.plot(mean_forecast.index.to_series().astype('str'), mean_forecast.values, color='red', label='forecast')\n",
    "# Uncertainty area\n",
    "plt.fill_between(mean_forecast.index.to_series().astype('str'), conf_int['lower price'], conf_int['upper price'], color='pink')\n",
    "# X-axis labels\n",
    "plt.xticks(rotation=90)\n",
    "plt.legend()\n",
    "plt.title(\"Model Validation\")\n",
    "plt.ylabel(\"AUD$\")\n",
    "plt.show()"
   ]
  },
  {
   "cell_type": "markdown",
   "metadata": {},
   "source": [
    "&emsp;Only the one step ahead in-sample prediction is able to predict relatively accurately than dynamic in-sample and forecast. Without the information from the previous data point, the model failed to make useful predictions. In the following, I try to put seasonal pattern consideration into the model to account for the repeatedly spikes."
   ]
  },
  {
   "cell_type": "markdown",
   "metadata": {},
   "source": [
    "### Seasonal Pattern"
   ]
  },
  {
   "cell_type": "code",
   "execution_count": null,
   "metadata": {},
   "outputs": [],
   "source": [
    "# De-trend the time-series to determine the cycle period\n",
    "df_detrend = train - train.rolling(5).mean()\n",
    "df_detrend.dropna()\n",
    "df_detrend.plot()\n",
    "plt.title(\"Detrended Time Series\")\n",
    "plt.xlabel(\"\")\n",
    "plt.show()"
   ]
  },
  {
   "cell_type": "code",
   "execution_count": null,
   "metadata": {},
   "outputs": [],
   "source": [
    "fig, ax = plt.subplots(1,1, figsize=(8,4))\n",
    "\n",
    "plot_acf(df_detrend.dropna(), lags=22, zero=False, ax=ax) # lags=67\n",
    "plt.show()"
   ]
  },
  {
   "cell_type": "code",
   "execution_count": null,
   "metadata": {},
   "outputs": [],
   "source": [
    "decomp_results = seasonal_decompose(df_uni.values, period=3) # period=4\n",
    "decomp_results.plot()\n",
    "plt.show()"
   ]
  },
  {
   "cell_type": "code",
   "execution_count": null,
   "metadata": {},
   "outputs": [],
   "source": [
    "# Seasonal differencing \n",
    "df_uni_season_diff = train.diff(3).dropna() # .diff(4)\n",
    "df_uni_season_diff.plot()\n",
    "plt.title(\"Seasonal Differencing of Training Set\")\n",
    "plt.xlabel(\"\")\n",
    "plt.show()"
   ]
  },
  {
   "cell_type": "code",
   "execution_count": null,
   "metadata": {},
   "outputs": [],
   "source": [
    "# plot seasonal ACF and PACF graphs\n",
    "fig, (ax1, ax2) = plt.subplots(2,1, figsize=(8,8))\n",
    "lags = [i for i in range(3,13,3)]\n",
    "plot_acf(df_uni_season_diff, lags=lags, ax=ax1)\n",
    "plot_pacf(df_uni_season_diff, lags=lags, ax=ax2)\n",
    "plt.show()"
   ]
  },
  {
   "cell_type": "markdown",
   "metadata": {},
   "source": [
    "&emsp;The ACF and PACF again do not show any tailing off. The orders are still inconclusive."
   ]
  },
  {
   "cell_type": "code",
   "execution_count": null,
   "metadata": {},
   "outputs": [],
   "source": [
    "# Apply SARIMA to capture seasonal patterns\n",
    "model = SARIMAX(train, order=(0,0,2), seasonal_order=(0,1,0,3))\n",
    "results = model.fit()\n",
    "\n",
    "# summary of fit model\n",
    "print(results.summary())\n",
    "# line plot of residuals\n",
    "residuals = results.resid\n",
    "residuals.plot()\n",
    "plt.title(\"Residual Plot\")\n",
    "plt.xlabel(\"\")\n",
    "plt.show()\n",
    "# Mean absolute error (MAE)\n",
    "mae = np.mean(np.abs(residuals))\n",
    "print(f'MAE:{mae}')\n",
    "# density plot of residuals - white Gaussian noise should be centred around 0\n",
    "results.plot_diagnostics(figsize=(12,12))\n",
    "plt.show()\n",
    "# residuals.plot(kind='kde')\n",
    "# plt.show()\n",
    "# summary stats of residuals\n",
    "print(residuals.describe())"
   ]
  },
  {
   "cell_type": "markdown",
   "metadata": {},
   "source": [
    "&emsp;pmdarima estimator is used to find the best orders with given orders of differencing for both non-seasonal and seasonal patterns with a period of 3."
   ]
  },
  {
   "cell_type": "code",
   "execution_count": null,
   "metadata": {},
   "outputs": [],
   "source": [
    "# Searching over model orders\n",
    "results = pm.auto_arima(train.values, seasonal=True, d=0, D=1, m=3, information_criterion='aic', trace=True, error_action='ignore', suppress_warnings=True, stepwise=True)\n",
    "# Update parameters with new observations\n",
    "# results.update(df_new)\n",
    "print(results.summary())\n",
    "results.plot_diagnostics(figsize=(10,8))\n",
    "plt.show()\n",
    "\n",
    "print(f'MAE: {np.mean(np.abs(results.resid()))}')\n",
    "\n",
    "joblib.dump(results, \"model.pkl\")\n",
    "\n",
    "# Load model\n",
    "# model_results_object = joblib.load(\"model.pkl\")"
   ]
  },
  {
   "cell_type": "markdown",
   "metadata": {},
   "source": [
    "&emsp;The mean absolute error reduced and the data points after 0 in correlogram are all insignificant. Additionally, the histogram has a better distribution that resembles the normal one."
   ]
  },
  {
   "cell_type": "code",
   "execution_count": null,
   "metadata": {},
   "outputs": [],
   "source": [
    "results"
   ]
  },
  {
   "cell_type": "code",
   "execution_count": null,
   "metadata": {},
   "outputs": [],
   "source": [
    "# Apply SARIMA to capture seasonal patterns\n",
    "model = SARIMAX(train, order=(2,0,0), seasonal_order=(0,1,0,3))\n",
    "results = model.fit()"
   ]
  },
  {
   "cell_type": "code",
   "execution_count": null,
   "metadata": {},
   "outputs": [],
   "source": [
    "# Forecast (one-step ahead in-sample prediction)\n",
    "forecast = results.get_prediction(start=-10)\n",
    "# Mean forecast\n",
    "mean_forecast = forecast.predicted_mean\n",
    "# Confident intervals\n",
    "conf_int = forecast.conf_int()\n",
    "\n",
    "# Plot\n",
    "plt.figure(figsize=(10,5))\n",
    "plt.plot(train.index.to_series().astype('str'), train, label='observed')\n",
    "# plt.plot(train.index.to_series().astype('str'), train, label='validate')\n",
    "# Prediction\n",
    "plt.plot(mean_forecast.index.to_series().astype('str'), mean_forecast.values, color='red', label='forecast')\n",
    "# Uncertainty area\n",
    "plt.fill_between(mean_forecast.index.to_series().astype('str'), conf_int['lower price'], conf_int['upper price'], color='pink')\n",
    "# X-axis labels\n",
    "plt.xticks(rotation=90)\n",
    "plt.legend()\n",
    "plt.title(\"One-Step Ahead In-Sample Prediction\")\n",
    "plt.xlabel(\"\")\n",
    "plt.ylabel(\"AUD$\")\n",
    "plt.show()"
   ]
  },
  {
   "cell_type": "code",
   "execution_count": null,
   "metadata": {},
   "outputs": [],
   "source": [
    "# Forecast (Dynamic in-sample prediction)\n",
    "forecast = results.get_prediction(start=-10, dynamic=True)\n",
    "# Mean forecast\n",
    "mean_forecast = forecast.predicted_mean\n",
    "# Confident intervals\n",
    "conf_int = forecast.conf_int()\n",
    "\n",
    "# Plot\n",
    "plt.figure(figsize=(10,5))\n",
    "plt.plot(train.index.to_series().astype('str'), train, label='observed')\n",
    "# plt.plot(test.index.to_series().astype('str'), test, label='validate')\n",
    "# Prediction\n",
    "plt.plot(mean_forecast.index.to_series().astype('str'), mean_forecast.values, color='red', label='forecast')\n",
    "# Uncertainty area\n",
    "plt.fill_between(mean_forecast.index.to_series().astype('str'), conf_int['lower price'], conf_int['upper price'], color='pink')\n",
    "# X-axis labels\n",
    "plt.xticks(rotation=90)\n",
    "plt.legend()\n",
    "plt.title(\"Dynamic In-Sample Prediction\")\n",
    "plt.xlabel(\"\")\n",
    "plt.ylabel(\"AUD$\")\n",
    "plt.show()"
   ]
  },
  {
   "cell_type": "code",
   "execution_count": null,
   "metadata": {},
   "outputs": [],
   "source": [
    "# Forecast (Out-sample prediction)\n",
    "forecast = results.get_forecast(steps=20)\n",
    "# Mean forecast\n",
    "mean_forecast = forecast.predicted_mean\n",
    "# Confident intervals\n",
    "conf_int = forecast.conf_int()\n",
    "\n",
    "# Plot\n",
    "plt.figure(figsize=(10,5))\n",
    "plt.plot(df_uni.index.to_series().astype('str'), df_uni, label='observed')\n",
    "plt.plot(test.index.to_series().astype('str'), test, label='validate')\n",
    "# Prediction\n",
    "plt.plot(mean_forecast.index.to_series().astype('str'), mean_forecast.values, color='red', label='forecast')\n",
    "# Uncertainty area\n",
    "plt.fill_between(mean_forecast.index.to_series().astype('str'), conf_int['lower price'], conf_int['upper price'], color='pink')\n",
    "# X-axis labels\n",
    "plt.xticks(rotation=90, fontsize=6)\n",
    "plt.legend()\n",
    "plt.title(\"Model Validation\")\n",
    "plt.xlabel(\"\")\n",
    "plt.ylabel(\"AUD$\")\n",
    "plt.show()"
   ]
  },
  {
   "cell_type": "markdown",
   "metadata": {},
   "source": [
    "&emsp;The seasonal model is unable to predict accurately the overall trend. Next, an exogenous feature is put into the training model."
   ]
  },
  {
   "cell_type": "markdown",
   "metadata": {},
   "source": [
    "## Exogenous Feature<a id='exog'></a>"
   ]
  },
  {
   "cell_type": "code",
   "execution_count": null,
   "metadata": {},
   "outputs": [],
   "source": [
    "# Connect database for weather data\n",
    "mydb = mysql.connector.connect(\n",
    "  host=\"localhost\",\n",
    "  user=\"root\",\n",
    "  password=\"password\"\n",
    ")\n",
    "mycursor = mydb.cursor()\n",
    "\n",
    "# Extract dataset\n",
    "mycursor.execute(\n",
    "    \"SELECT CONCAT(year, '-', month) AS month, ROUND(AVG(temp_max), 1) AS temp_max\\\n",
    "    FROM base.weather\\\n",
    "    WHERE year >= 2022\\\n",
    "    GROUP BY year, month\"\n",
    ")\n",
    "\n",
    "result = mycursor.fetchall()\n",
    "\n",
    "for x in result:\n",
    "    print(x)"
   ]
  },
  {
   "cell_type": "code",
   "execution_count": null,
   "metadata": {},
   "outputs": [],
   "source": [
    "df_temp = pd.DataFrame(result, columns=['date','temp'])\n",
    "df_temp.head()"
   ]
  },
  {
   "cell_type": "code",
   "execution_count": null,
   "metadata": {},
   "outputs": [],
   "source": [
    "# Concat both features\n",
    "df = pd.concat([pd.DataFrame(df_uni).reset_index(), df_temp['temp']], axis=1)\n",
    "df['date'] = df['date'].astype(str)\n",
    "df = df.set_index('date')\n",
    "df.head()"
   ]
  },
  {
   "cell_type": "code",
   "execution_count": null,
   "metadata": {},
   "outputs": [],
   "source": [
    "fig, ax = plt.subplots(figsize=(8,5))\n",
    "\n",
    "sns.lineplot(df, x='date', y='price', c='tab:blue', label='fuel', ax=ax, legend=False)\n",
    "\n",
    "ax2 = ax.twinx()\n",
    "sns.lineplot(df, x='date', y='temp', c='tab:orange', label='temp', ax=ax2, legend=False)\n",
    "\n",
    "ax.set_xticks(ax.get_xticks())\n",
    "ax.set_xticklabels(ax.get_xticklabels(), rotation=90)\n",
    "\n",
    "ax.figure.legend()\n",
    "plt.title(\"Fuel Price and Temperature from 2022 to 2024\")\n",
    "plt.xlabel(\"\")\n",
    "plt.show()"
   ]
  },
  {
   "cell_type": "markdown",
   "metadata": {},
   "source": [
    "&emsp;Although temperature in Perth has a clear seasonal pattern, it does not have a clear relationship with the fuel price."
   ]
  },
  {
   "cell_type": "code",
   "execution_count": null,
   "metadata": {},
   "outputs": [],
   "source": [
    "# Train test split\n",
    "train = df.iloc[:round(df.shape[0]*.75)]\n",
    "test = df.iloc[round(df.shape[0]*.75):]\n",
    "\n",
    "fig, ax = plt.subplots(figsize=(8,5))\n",
    "sns.lineplot(train, x='date', y='price', c='tab:blue', label='train', legend=False, ax=ax)\n",
    "sns.lineplot(test, x='date', y='price', c='tab:orange', label='test', legend=False, ax=ax)\n",
    "ax.set_xticklabels(ax.get_xticklabels(), rotation=90)\n",
    "ax.set_title(\"Training and Testing Sets of Fuel Price\")\n",
    "ax.set_xlabel(\"\")\n",
    "ax.legend()\n",
    "plt.show()\n",
    "\n",
    "# Apply SARIMA to capture seasonal patterns\n",
    "model = SARIMAX(train['price'], order=(2,0,0), seasonal_order=(0,1,0,3), exog=train['temp'])\n",
    "results = model.fit()\n",
    "# summary of fit model\n",
    "print(results.summary())\n",
    "# line plot of residuals\n",
    "residuals = results.resid\n",
    "residuals.plot()\n",
    "plt.title(\"Residual Plot\")\n",
    "plt.xlabel(\"\")\n",
    "plt.show()\n",
    "# Mean absolute error (MAE)\n",
    "mae = np.mean(np.abs(residuals))\n",
    "print(f'MAE:{mae}')\n",
    "# density plot of residuals - white Gaussian noise should be centred around 0\n",
    "results.plot_diagnostics(figsize=(12,12))\n",
    "plt.show()\n",
    "# residuals.plot(kind='kde')\n",
    "# plt.show()\n",
    "# summary stats of residuals\n",
    "print(residuals.describe())"
   ]
  },
  {
   "cell_type": "code",
   "execution_count": null,
   "metadata": {},
   "outputs": [],
   "source": [
    "# Forecast (one-step ahead in-sample prediction)\n",
    "forecast = results.get_prediction(start=-10, exog=train['temp'])\n",
    "# Mean forecast\n",
    "mean_forecast = forecast.predicted_mean\n",
    "# Confident intervals\n",
    "conf_int = forecast.conf_int()\n",
    "\n",
    "# Plot\n",
    "plt.figure(figsize=(10,5))\n",
    "plt.plot(train.index, train['price'], label='observed')\n",
    "# plt.plot(train.index.to_series().astype('str'), train, label='validate')\n",
    "# Prediction\n",
    "plt.plot(train.index[-10:], mean_forecast.values, color='red', label='forecast')\n",
    "# Uncertainty area\n",
    "plt.fill_between(train.index[-10:], conf_int['lower price'], conf_int['upper price'], color='pink')\n",
    "# X-axis labels\n",
    "plt.xticks(rotation=90)\n",
    "plt.legend()\n",
    "plt.title(\"One-Step Ahead In-Sample Prediction\")\n",
    "plt.ylabel(\"AUD$\")\n",
    "plt.show()"
   ]
  },
  {
   "cell_type": "code",
   "execution_count": null,
   "metadata": {},
   "outputs": [],
   "source": [
    "# Forecast (Dynamic in-sample prediction)\n",
    "forecast = results.get_prediction(start=-10, dynamic=True, exog=train['temp'])\n",
    "# Mean forecast\n",
    "mean_forecast = forecast.predicted_mean\n",
    "# Confident intervals\n",
    "conf_int = forecast.conf_int()\n",
    "\n",
    "# Plot\n",
    "plt.figure(figsize=(10,5))\n",
    "plt.plot(train.index, train['price'], label='observed')\n",
    "# plt.plot(test.index.to_series().astype('str'), test, label='validate')\n",
    "# Prediction\n",
    "plt.plot(train.index[-10:], mean_forecast.values, color='red', label='forecast')\n",
    "# Uncertainty area\n",
    "plt.fill_between(train.index[-10:], conf_int['lower price'], conf_int['upper price'], color='pink')\n",
    "# X-axis labels\n",
    "plt.xticks(rotation=90)\n",
    "plt.legend()\n",
    "plt.title(\"Dynamic In-Sample Prediction\")\n",
    "plt.ylabel(\"AUD$\")\n",
    "plt.show()"
   ]
  },
  {
   "cell_type": "code",
   "execution_count": null,
   "metadata": {},
   "outputs": [],
   "source": [
    "# Forecast (Out-sample prediction)\n",
    "forecast = results.get_forecast(steps=test.shape[0], exog=test['temp'])\n",
    "# Mean forecast\n",
    "mean_forecast = forecast.predicted_mean\n",
    "# Confident intervals\n",
    "conf_int = forecast.conf_int()\n",
    "\n",
    "# Plot\n",
    "plt.figure(figsize=(10,5))\n",
    "plt.plot(train.index, train['price'], label='observed')\n",
    "plt.plot(test.index, test['price'], label='validate')\n",
    "# Prediction\n",
    "plt.plot(mean_forecast.index.to_series().astype('str').str[:-3], mean_forecast.values, color='red', label='forecast')\n",
    "# Uncertainty area\n",
    "plt.fill_between(mean_forecast.index.to_series().astype('str').str[:-3], conf_int['lower price'], conf_int['upper price'], color='pink')\n",
    "# X-axis labels\n",
    "plt.xticks(rotation=90, fontsize=6)\n",
    "plt.legend()\n",
    "plt.title(\"Model Validation\")\n",
    "plt.ylabel(\"AUD$\")\n",
    "plt.show()"
   ]
  },
  {
   "cell_type": "markdown",
   "metadata": {},
   "source": [
    "&emsp;Overall, the model with additional exogenous feature produces a little bit more information to the prediction. It lightly captured the downward trend in the validation set."
   ]
  },
  {
   "cell_type": "code",
   "execution_count": null,
   "metadata": {},
   "outputs": [],
   "source": [
    "# Final forecast for future price (Out-sample prediction)\n",
    "# Apply SARIMA to capture seasonal patterns\n",
    "model = SARIMAX(df['price'], order=(2,0,0), seasonal_order=(0,1,0,3), exog=df['temp'])\n",
    "results = model.fit()\n",
    "\n",
    "forecast = results.get_forecast(steps=24, exog=df['temp'].iloc[-24:])\n",
    "# Mean forecast\n",
    "mean_forecast = forecast.predicted_mean\n",
    "# Confident intervals\n",
    "conf_int = forecast.conf_int()\n",
    "\n",
    "# Plot\n",
    "plt.figure(figsize=(10,5))\n",
    "plt.plot(df.index, df['price'], label='observed')\n",
    "# Prediction\n",
    "plt.plot(mean_forecast.index.to_series().astype('str').str[:-3], mean_forecast.values, color='red', label='forecast')\n",
    "plt.plot([df.index[0], mean_forecast.index.to_series().astype('str').str[:-3][-1]], [np.average(mean_forecast.values)]*2)\n",
    "# Uncertainty area\n",
    "plt.fill_between(mean_forecast.index.to_series().astype('str').str[:-3], conf_int['lower price'], conf_int['upper price'], color='pink')\n",
    "# X-axis labels\n",
    "plt.xticks(rotation=90, fontsize=6)\n",
    "plt.legend()\n",
    "plt.title(\"2-Year Forecast on Fuel Price\")\n",
    "plt.ylabel(\"AUD$\")\n",
    "plt.show()"
   ]
  },
  {
   "cell_type": "markdown",
   "metadata": {},
   "source": [
    "&emsp;According to the forecast, the average fuel price in Perth metro area will fluctuate around `AUD$177/100L` in the coming two years. The forecast does not reproduce the spikes as happened in the past. To improve, more data from the past is recommended."
   ]
  }
 ],
 "metadata": {
  "kernelspec": {
   "display_name": "base",
   "language": "python",
   "name": "python3"
  },
  "language_info": {
   "codemirror_mode": {
    "name": "ipython",
    "version": 3
   },
   "file_extension": ".py",
   "mimetype": "text/x-python",
   "name": "python",
   "nbconvert_exporter": "python",
   "pygments_lexer": "ipython3",
   "version": "3.12.4"
  }
 },
 "nbformat": 4,
 "nbformat_minor": 2
}
