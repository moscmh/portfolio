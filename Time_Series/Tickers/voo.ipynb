{
 "cells": [
  {
   "cell_type": "markdown",
   "metadata": {},
   "source": [
    "# Vanguard S&P 500 ETF Forecast"
   ]
  },
  {
   "cell_type": "markdown",
   "metadata": {},
   "source": [
    "&emsp;This project builds a **predictive model** for the *Vanguard S&P 500 ETF* stock price."
   ]
  },
  {
   "cell_type": "code",
   "execution_count": 11,
   "metadata": {},
   "outputs": [],
   "source": [
    "import random\n",
    "import numpy as np\n",
    "import pandas as pd\n",
    "import matplotlib.pyplot as plt\n",
    "import matplotlib.dates as mdates\n",
    "\n",
    "import yfinance as yf\n",
    "from sklearn.preprocessing import MinMaxScaler\n",
    "\n",
    "import tensorflow as tf\n",
    "from tensorflow.keras import layers\n",
    "\n",
    "from sklearn.metrics import r2_score\n",
    "\n",
    "# Seed code\n",
    "np.random.seed(1)\n",
    "random.seed(1)\n",
    "tf.random.set_seed(1)"
   ]
  },
  {
   "cell_type": "markdown",
   "metadata": {},
   "source": [
    "# Create Windowed Dataset Function"
   ]
  },
  {
   "cell_type": "code",
   "execution_count": null,
   "metadata": {},
   "outputs": [],
   "source": [
    "def create_dataset(orig_dataset, window_size=1):\n",
    "    data_x, data_y = [], []\n",
    "    for i in range(len(orig_dataset) - window_size):\n",
    "        window = orig_dataset.iloc[i:(i + window_size), 0]\n",
    "        target = orig_dataset.iloc[i + window_size, 0]\n",
    "        data_x.append(window)\n",
    "        data_y.append(target)\n",
    "    return np.array(data_x), np.array(data_y)"
   ]
  },
  {
   "cell_type": "markdown",
   "metadata": {},
   "source": [
    "# Import Data"
   ]
  },
  {
   "cell_type": "code",
   "execution_count": 33,
   "metadata": {},
   "outputs": [
    {
     "name": "stdout",
     "output_type": "stream",
     "text": [
      "Rows: 3626\n",
      "Columns: 8\n"
     ]
    },
    {
     "data": {
      "text/html": [
       "<div>\n",
       "<style scoped>\n",
       "    .dataframe tbody tr th:only-of-type {\n",
       "        vertical-align: middle;\n",
       "    }\n",
       "\n",
       "    .dataframe tbody tr th {\n",
       "        vertical-align: top;\n",
       "    }\n",
       "\n",
       "    .dataframe thead th {\n",
       "        text-align: right;\n",
       "    }\n",
       "</style>\n",
       "<table border=\"1\" class=\"dataframe\">\n",
       "  <thead>\n",
       "    <tr style=\"text-align: right;\">\n",
       "      <th></th>\n",
       "      <th>Open</th>\n",
       "      <th>High</th>\n",
       "      <th>Low</th>\n",
       "      <th>Close</th>\n",
       "      <th>Volume</th>\n",
       "      <th>Dividends</th>\n",
       "      <th>Stock Splits</th>\n",
       "      <th>Capital Gains</th>\n",
       "    </tr>\n",
       "    <tr>\n",
       "      <th>Date</th>\n",
       "      <th></th>\n",
       "      <th></th>\n",
       "      <th></th>\n",
       "      <th></th>\n",
       "      <th></th>\n",
       "      <th></th>\n",
       "      <th></th>\n",
       "      <th></th>\n",
       "    </tr>\n",
       "  </thead>\n",
       "  <tbody>\n",
       "    <tr>\n",
       "      <th>2010-09-09 00:00:00-04:00</th>\n",
       "      <td>78.626477</td>\n",
       "      <td>78.626477</td>\n",
       "      <td>77.583237</td>\n",
       "      <td>77.721313</td>\n",
       "      <td>26500</td>\n",
       "      <td>0.0</td>\n",
       "      <td>0.0</td>\n",
       "      <td>0.0</td>\n",
       "    </tr>\n",
       "    <tr>\n",
       "      <th>2010-09-10 00:00:00-04:00</th>\n",
       "      <td>77.997496</td>\n",
       "      <td>78.135572</td>\n",
       "      <td>77.706005</td>\n",
       "      <td>78.074203</td>\n",
       "      <td>8600</td>\n",
       "      <td>0.0</td>\n",
       "      <td>0.0</td>\n",
       "      <td>0.0</td>\n",
       "    </tr>\n",
       "    <tr>\n",
       "      <th>2010-09-13 00:00:00-04:00</th>\n",
       "      <td>78.979376</td>\n",
       "      <td>79.117452</td>\n",
       "      <td>78.626516</td>\n",
       "      <td>79.056084</td>\n",
       "      <td>33750</td>\n",
       "      <td>0.0</td>\n",
       "      <td>0.0</td>\n",
       "      <td>0.0</td>\n",
       "    </tr>\n",
       "    <tr>\n",
       "      <th>2010-09-14 00:00:00-04:00</th>\n",
       "      <td>78.887312</td>\n",
       "      <td>79.378254</td>\n",
       "      <td>78.534453</td>\n",
       "      <td>79.040733</td>\n",
       "      <td>59400</td>\n",
       "      <td>0.0</td>\n",
       "      <td>0.0</td>\n",
       "      <td>0.0</td>\n",
       "    </tr>\n",
       "    <tr>\n",
       "      <th>2010-09-15 00:00:00-04:00</th>\n",
       "      <td>78.718531</td>\n",
       "      <td>79.301513</td>\n",
       "      <td>78.549770</td>\n",
       "      <td>79.240150</td>\n",
       "      <td>9250</td>\n",
       "      <td>0.0</td>\n",
       "      <td>0.0</td>\n",
       "      <td>0.0</td>\n",
       "    </tr>\n",
       "  </tbody>\n",
       "</table>\n",
       "</div>"
      ],
      "text/plain": [
       "                                Open       High        Low      Close  Volume  \\\n",
       "Date                                                                            \n",
       "2010-09-09 00:00:00-04:00  78.626477  78.626477  77.583237  77.721313   26500   \n",
       "2010-09-10 00:00:00-04:00  77.997496  78.135572  77.706005  78.074203    8600   \n",
       "2010-09-13 00:00:00-04:00  78.979376  79.117452  78.626516  79.056084   33750   \n",
       "2010-09-14 00:00:00-04:00  78.887312  79.378254  78.534453  79.040733   59400   \n",
       "2010-09-15 00:00:00-04:00  78.718531  79.301513  78.549770  79.240150    9250   \n",
       "\n",
       "                           Dividends  Stock Splits  Capital Gains  \n",
       "Date                                                               \n",
       "2010-09-09 00:00:00-04:00        0.0           0.0            0.0  \n",
       "2010-09-10 00:00:00-04:00        0.0           0.0            0.0  \n",
       "2010-09-13 00:00:00-04:00        0.0           0.0            0.0  \n",
       "2010-09-14 00:00:00-04:00        0.0           0.0            0.0  \n",
       "2010-09-15 00:00:00-04:00        0.0           0.0            0.0  "
      ]
     },
     "execution_count": 33,
     "metadata": {},
     "output_type": "execute_result"
    }
   ],
   "source": [
    "# Define the ticker symbol\n",
    "ticker_symbol = \"VOO\"\n",
    "\n",
    "# Create a Ticker object\n",
    "ticker = yf.Ticker(ticker_symbol)\n",
    "\n",
    "# Fetch historical market data\n",
    "voo = ticker.history(period='max')  # data for the last year\n",
    "print(f\"Rows: {voo.shape[0]}\\nColumns: {voo.shape[1]}\")\n",
    "voo.head()"
   ]
  },
  {
   "cell_type": "code",
   "execution_count": 28,
   "metadata": {},
   "outputs": [
    {
     "name": "stdout",
     "output_type": "stream",
     "text": [
      "<class 'pandas.core.frame.DataFrame'>\n",
      "DatetimeIndex: 3625 entries, 2010-09-09 00:00:00-04:00 to 2025-02-05 00:00:00-05:00\n",
      "Data columns (total 8 columns):\n",
      " #   Column         Non-Null Count  Dtype  \n",
      "---  ------         --------------  -----  \n",
      " 0   Open           3625 non-null   float64\n",
      " 1   High           3625 non-null   float64\n",
      " 2   Low            3625 non-null   float64\n",
      " 3   Close          3625 non-null   float64\n",
      " 4   Volume         3625 non-null   int64  \n",
      " 5   Dividends      3625 non-null   float64\n",
      " 6   Stock Splits   3625 non-null   float64\n",
      " 7   Capital Gains  3625 non-null   float64\n",
      "dtypes: float64(7), int64(1)\n",
      "memory usage: 254.9 KB\n"
     ]
    }
   ],
   "source": [
    "voo.info()"
   ]
  },
  {
   "cell_type": "markdown",
   "metadata": {},
   "source": [
    "&emsp;Apparently, there are no missing values."
   ]
  },
  {
   "cell_type": "code",
   "execution_count": null,
   "metadata": {},
   "outputs": [],
   "source": []
  }
 ],
 "metadata": {
  "kernelspec": {
   "display_name": "venv_DL",
   "language": "python",
   "name": "venv_dl"
  },
  "language_info": {
   "codemirror_mode": {
    "name": "ipython",
    "version": 3
   },
   "file_extension": ".py",
   "mimetype": "text/x-python",
   "name": "python",
   "nbconvert_exporter": "python",
   "pygments_lexer": "ipython3",
   "version": "3.9.6"
  }
 },
 "nbformat": 4,
 "nbformat_minor": 2
}
